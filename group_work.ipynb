{
 "cells": [
  {
   "cell_type": "markdown",
   "metadata": {},
   "source": [
    "# Group Work"
   ]
  },
  {
   "cell_type": "code",
   "execution_count": 2,
   "metadata": {},
   "outputs": [],
   "source": [
    "import pandas as pd\n",
    "import numpy as np\n",
    "pd.set_option('display.max_columns', None)\n",
    "import warnings\n",
    "warnings.filterwarnings('ignore')"
   ]
  },
  {
   "cell_type": "markdown",
   "metadata": {},
   "source": [
    "### Info "
   ]
  },
  {
   "cell_type": "code",
   "execution_count": 3,
   "metadata": {},
   "outputs": [
    {
     "ename": "FileNotFoundError",
     "evalue": "[Errno 2] No such file or directory: 'alldata.csv'",
     "output_type": "error",
     "traceback": [
      "\u001b[1;31m---------------------------------------------------------------------------\u001b[0m",
      "\u001b[1;31mFileNotFoundError\u001b[0m                         Traceback (most recent call last)",
      "\u001b[1;32m<ipython-input-3-ef93a929aab2>\u001b[0m in \u001b[0;36m<module>\u001b[1;34m\u001b[0m\n\u001b[1;32m----> 1\u001b[1;33m \u001b[0mfile\u001b[0m \u001b[1;33m=\u001b[0m \u001b[0mpd\u001b[0m\u001b[1;33m.\u001b[0m\u001b[0mread_csv\u001b[0m\u001b[1;33m(\u001b[0m\u001b[1;34m'alldata.csv'\u001b[0m\u001b[1;33m)\u001b[0m\u001b[1;33m\u001b[0m\u001b[1;33m\u001b[0m\u001b[0m\n\u001b[0m",
      "\u001b[1;32mC:\\ProgramData\\Anaconda3\\lib\\site-packages\\pandas\\io\\parsers.py\u001b[0m in \u001b[0;36mread_csv\u001b[1;34m(filepath_or_buffer, sep, delimiter, header, names, index_col, usecols, squeeze, prefix, mangle_dupe_cols, dtype, engine, converters, true_values, false_values, skipinitialspace, skiprows, skipfooter, nrows, na_values, keep_default_na, na_filter, verbose, skip_blank_lines, parse_dates, infer_datetime_format, keep_date_col, date_parser, dayfirst, cache_dates, iterator, chunksize, compression, thousands, decimal, lineterminator, quotechar, quoting, doublequote, escapechar, comment, encoding, dialect, error_bad_lines, warn_bad_lines, delim_whitespace, low_memory, memory_map, float_precision)\u001b[0m\n\u001b[0;32m    684\u001b[0m     )\n\u001b[0;32m    685\u001b[0m \u001b[1;33m\u001b[0m\u001b[0m\n\u001b[1;32m--> 686\u001b[1;33m     \u001b[1;32mreturn\u001b[0m \u001b[0m_read\u001b[0m\u001b[1;33m(\u001b[0m\u001b[0mfilepath_or_buffer\u001b[0m\u001b[1;33m,\u001b[0m \u001b[0mkwds\u001b[0m\u001b[1;33m)\u001b[0m\u001b[1;33m\u001b[0m\u001b[1;33m\u001b[0m\u001b[0m\n\u001b[0m\u001b[0;32m    687\u001b[0m \u001b[1;33m\u001b[0m\u001b[0m\n\u001b[0;32m    688\u001b[0m \u001b[1;33m\u001b[0m\u001b[0m\n",
      "\u001b[1;32mC:\\ProgramData\\Anaconda3\\lib\\site-packages\\pandas\\io\\parsers.py\u001b[0m in \u001b[0;36m_read\u001b[1;34m(filepath_or_buffer, kwds)\u001b[0m\n\u001b[0;32m    450\u001b[0m \u001b[1;33m\u001b[0m\u001b[0m\n\u001b[0;32m    451\u001b[0m     \u001b[1;31m# Create the parser.\u001b[0m\u001b[1;33m\u001b[0m\u001b[1;33m\u001b[0m\u001b[1;33m\u001b[0m\u001b[0m\n\u001b[1;32m--> 452\u001b[1;33m     \u001b[0mparser\u001b[0m \u001b[1;33m=\u001b[0m \u001b[0mTextFileReader\u001b[0m\u001b[1;33m(\u001b[0m\u001b[0mfp_or_buf\u001b[0m\u001b[1;33m,\u001b[0m \u001b[1;33m**\u001b[0m\u001b[0mkwds\u001b[0m\u001b[1;33m)\u001b[0m\u001b[1;33m\u001b[0m\u001b[1;33m\u001b[0m\u001b[0m\n\u001b[0m\u001b[0;32m    453\u001b[0m \u001b[1;33m\u001b[0m\u001b[0m\n\u001b[0;32m    454\u001b[0m     \u001b[1;32mif\u001b[0m \u001b[0mchunksize\u001b[0m \u001b[1;32mor\u001b[0m \u001b[0miterator\u001b[0m\u001b[1;33m:\u001b[0m\u001b[1;33m\u001b[0m\u001b[1;33m\u001b[0m\u001b[0m\n",
      "\u001b[1;32mC:\\ProgramData\\Anaconda3\\lib\\site-packages\\pandas\\io\\parsers.py\u001b[0m in \u001b[0;36m__init__\u001b[1;34m(self, f, engine, **kwds)\u001b[0m\n\u001b[0;32m    944\u001b[0m             \u001b[0mself\u001b[0m\u001b[1;33m.\u001b[0m\u001b[0moptions\u001b[0m\u001b[1;33m[\u001b[0m\u001b[1;34m\"has_index_names\"\u001b[0m\u001b[1;33m]\u001b[0m \u001b[1;33m=\u001b[0m \u001b[0mkwds\u001b[0m\u001b[1;33m[\u001b[0m\u001b[1;34m\"has_index_names\"\u001b[0m\u001b[1;33m]\u001b[0m\u001b[1;33m\u001b[0m\u001b[1;33m\u001b[0m\u001b[0m\n\u001b[0;32m    945\u001b[0m \u001b[1;33m\u001b[0m\u001b[0m\n\u001b[1;32m--> 946\u001b[1;33m         \u001b[0mself\u001b[0m\u001b[1;33m.\u001b[0m\u001b[0m_make_engine\u001b[0m\u001b[1;33m(\u001b[0m\u001b[0mself\u001b[0m\u001b[1;33m.\u001b[0m\u001b[0mengine\u001b[0m\u001b[1;33m)\u001b[0m\u001b[1;33m\u001b[0m\u001b[1;33m\u001b[0m\u001b[0m\n\u001b[0m\u001b[0;32m    947\u001b[0m \u001b[1;33m\u001b[0m\u001b[0m\n\u001b[0;32m    948\u001b[0m     \u001b[1;32mdef\u001b[0m \u001b[0mclose\u001b[0m\u001b[1;33m(\u001b[0m\u001b[0mself\u001b[0m\u001b[1;33m)\u001b[0m\u001b[1;33m:\u001b[0m\u001b[1;33m\u001b[0m\u001b[1;33m\u001b[0m\u001b[0m\n",
      "\u001b[1;32mC:\\ProgramData\\Anaconda3\\lib\\site-packages\\pandas\\io\\parsers.py\u001b[0m in \u001b[0;36m_make_engine\u001b[1;34m(self, engine)\u001b[0m\n\u001b[0;32m   1176\u001b[0m     \u001b[1;32mdef\u001b[0m \u001b[0m_make_engine\u001b[0m\u001b[1;33m(\u001b[0m\u001b[0mself\u001b[0m\u001b[1;33m,\u001b[0m \u001b[0mengine\u001b[0m\u001b[1;33m=\u001b[0m\u001b[1;34m\"c\"\u001b[0m\u001b[1;33m)\u001b[0m\u001b[1;33m:\u001b[0m\u001b[1;33m\u001b[0m\u001b[1;33m\u001b[0m\u001b[0m\n\u001b[0;32m   1177\u001b[0m         \u001b[1;32mif\u001b[0m \u001b[0mengine\u001b[0m \u001b[1;33m==\u001b[0m \u001b[1;34m\"c\"\u001b[0m\u001b[1;33m:\u001b[0m\u001b[1;33m\u001b[0m\u001b[1;33m\u001b[0m\u001b[0m\n\u001b[1;32m-> 1178\u001b[1;33m             \u001b[0mself\u001b[0m\u001b[1;33m.\u001b[0m\u001b[0m_engine\u001b[0m \u001b[1;33m=\u001b[0m \u001b[0mCParserWrapper\u001b[0m\u001b[1;33m(\u001b[0m\u001b[0mself\u001b[0m\u001b[1;33m.\u001b[0m\u001b[0mf\u001b[0m\u001b[1;33m,\u001b[0m \u001b[1;33m**\u001b[0m\u001b[0mself\u001b[0m\u001b[1;33m.\u001b[0m\u001b[0moptions\u001b[0m\u001b[1;33m)\u001b[0m\u001b[1;33m\u001b[0m\u001b[1;33m\u001b[0m\u001b[0m\n\u001b[0m\u001b[0;32m   1179\u001b[0m         \u001b[1;32melse\u001b[0m\u001b[1;33m:\u001b[0m\u001b[1;33m\u001b[0m\u001b[1;33m\u001b[0m\u001b[0m\n\u001b[0;32m   1180\u001b[0m             \u001b[1;32mif\u001b[0m \u001b[0mengine\u001b[0m \u001b[1;33m==\u001b[0m \u001b[1;34m\"python\"\u001b[0m\u001b[1;33m:\u001b[0m\u001b[1;33m\u001b[0m\u001b[1;33m\u001b[0m\u001b[0m\n",
      "\u001b[1;32mC:\\ProgramData\\Anaconda3\\lib\\site-packages\\pandas\\io\\parsers.py\u001b[0m in \u001b[0;36m__init__\u001b[1;34m(self, src, **kwds)\u001b[0m\n\u001b[0;32m   2006\u001b[0m         \u001b[0mkwds\u001b[0m\u001b[1;33m[\u001b[0m\u001b[1;34m\"usecols\"\u001b[0m\u001b[1;33m]\u001b[0m \u001b[1;33m=\u001b[0m \u001b[0mself\u001b[0m\u001b[1;33m.\u001b[0m\u001b[0musecols\u001b[0m\u001b[1;33m\u001b[0m\u001b[1;33m\u001b[0m\u001b[0m\n\u001b[0;32m   2007\u001b[0m \u001b[1;33m\u001b[0m\u001b[0m\n\u001b[1;32m-> 2008\u001b[1;33m         \u001b[0mself\u001b[0m\u001b[1;33m.\u001b[0m\u001b[0m_reader\u001b[0m \u001b[1;33m=\u001b[0m \u001b[0mparsers\u001b[0m\u001b[1;33m.\u001b[0m\u001b[0mTextReader\u001b[0m\u001b[1;33m(\u001b[0m\u001b[0msrc\u001b[0m\u001b[1;33m,\u001b[0m \u001b[1;33m**\u001b[0m\u001b[0mkwds\u001b[0m\u001b[1;33m)\u001b[0m\u001b[1;33m\u001b[0m\u001b[1;33m\u001b[0m\u001b[0m\n\u001b[0m\u001b[0;32m   2009\u001b[0m         \u001b[0mself\u001b[0m\u001b[1;33m.\u001b[0m\u001b[0munnamed_cols\u001b[0m \u001b[1;33m=\u001b[0m \u001b[0mself\u001b[0m\u001b[1;33m.\u001b[0m\u001b[0m_reader\u001b[0m\u001b[1;33m.\u001b[0m\u001b[0munnamed_cols\u001b[0m\u001b[1;33m\u001b[0m\u001b[1;33m\u001b[0m\u001b[0m\n\u001b[0;32m   2010\u001b[0m \u001b[1;33m\u001b[0m\u001b[0m\n",
      "\u001b[1;32mpandas\\_libs\\parsers.pyx\u001b[0m in \u001b[0;36mpandas._libs.parsers.TextReader.__cinit__\u001b[1;34m()\u001b[0m\n",
      "\u001b[1;32mpandas\\_libs\\parsers.pyx\u001b[0m in \u001b[0;36mpandas._libs.parsers.TextReader._setup_parser_source\u001b[1;34m()\u001b[0m\n",
      "\u001b[1;31mFileNotFoundError\u001b[0m: [Errno 2] No such file or directory: 'alldata.csv'"
     ]
    }
   ],
   "source": [
    "file = pd.read_csv('alldata.csv')"
   ]
  },
  {
   "cell_type": "code",
   "execution_count": 3,
   "metadata": {},
   "outputs": [
    {
     "data": {
      "text/html": [
       "<div>\n",
       "<style scoped>\n",
       "    .dataframe tbody tr th:only-of-type {\n",
       "        vertical-align: middle;\n",
       "    }\n",
       "\n",
       "    .dataframe tbody tr th {\n",
       "        vertical-align: top;\n",
       "    }\n",
       "\n",
       "    .dataframe thead th {\n",
       "        text-align: right;\n",
       "    }\n",
       "</style>\n",
       "<table border=\"1\" class=\"dataframe\">\n",
       "  <thead>\n",
       "    <tr style=\"text-align: right;\">\n",
       "      <th></th>\n",
       "      <th>position</th>\n",
       "      <th>company</th>\n",
       "      <th>description</th>\n",
       "      <th>reviews</th>\n",
       "      <th>location</th>\n",
       "    </tr>\n",
       "  </thead>\n",
       "  <tbody>\n",
       "    <tr>\n",
       "      <th>0</th>\n",
       "      <td>Development Director</td>\n",
       "      <td>ALS TDI</td>\n",
       "      <td>Development Director\\nALS Therapy Development ...</td>\n",
       "      <td>NaN</td>\n",
       "      <td>Atlanta, GA 30301</td>\n",
       "    </tr>\n",
       "    <tr>\n",
       "      <th>1</th>\n",
       "      <td>An Ostentatiously-Excitable Principal Research...</td>\n",
       "      <td>The Hexagon Lavish</td>\n",
       "      <td>Job Description\\n\\n\"The road that leads to acc...</td>\n",
       "      <td>NaN</td>\n",
       "      <td>Atlanta, GA</td>\n",
       "    </tr>\n",
       "    <tr>\n",
       "      <th>2</th>\n",
       "      <td>Data Scientist</td>\n",
       "      <td>Xpert Staffing</td>\n",
       "      <td>Growing company located in the Atlanta, GA are...</td>\n",
       "      <td>NaN</td>\n",
       "      <td>Atlanta, GA</td>\n",
       "    </tr>\n",
       "    <tr>\n",
       "      <th>3</th>\n",
       "      <td>Data Analyst</td>\n",
       "      <td>Operation HOPE</td>\n",
       "      <td>DEPARTMENT: Program OperationsPOSITION LOCATIO...</td>\n",
       "      <td>44.0</td>\n",
       "      <td>Atlanta, GA 30303</td>\n",
       "    </tr>\n",
       "    <tr>\n",
       "      <th>4</th>\n",
       "      <td>Assistant Professor -TT - Signal Processing &amp; ...</td>\n",
       "      <td>Emory University</td>\n",
       "      <td>DESCRIPTION\\nThe Emory University Department o...</td>\n",
       "      <td>550.0</td>\n",
       "      <td>Atlanta, GA</td>\n",
       "    </tr>\n",
       "  </tbody>\n",
       "</table>\n",
       "</div>"
      ],
      "text/plain": [
       "                                            position             company  \\\n",
       "0                               Development Director             ALS TDI   \n",
       "1  An Ostentatiously-Excitable Principal Research...  The Hexagon Lavish   \n",
       "2                                     Data Scientist      Xpert Staffing   \n",
       "3                                       Data Analyst      Operation HOPE   \n",
       "4  Assistant Professor -TT - Signal Processing & ...    Emory University   \n",
       "\n",
       "                                         description  reviews  \\\n",
       "0  Development Director\\nALS Therapy Development ...      NaN   \n",
       "1  Job Description\\n\\n\"The road that leads to acc...      NaN   \n",
       "2  Growing company located in the Atlanta, GA are...      NaN   \n",
       "3  DEPARTMENT: Program OperationsPOSITION LOCATIO...     44.0   \n",
       "4  DESCRIPTION\\nThe Emory University Department o...    550.0   \n",
       "\n",
       "             location  \n",
       "0  Atlanta, GA 30301   \n",
       "1         Atlanta, GA  \n",
       "2         Atlanta, GA  \n",
       "3  Atlanta, GA 30303   \n",
       "4         Atlanta, GA  "
      ]
     },
     "execution_count": 3,
     "metadata": {},
     "output_type": "execute_result"
    }
   ],
   "source": [
    "file.head()"
   ]
  },
  {
   "cell_type": "code",
   "execution_count": 5,
   "metadata": {},
   "outputs": [],
   "source": [
    "dataset = file"
   ]
  },
  {
   "cell_type": "code",
   "execution_count": 7,
   "metadata": {
    "scrolled": false
   },
   "outputs": [
    {
     "data": {
      "text/plain": [
       "array(['Atlanta, GA 30301 ', 'Atlanta, GA', 'Atlanta, GA 30303 ',\n",
       "       'Atlanta, GA 30318 ', 'Atlanta, GA 30338', 'Atlanta, GA 30309 ',\n",
       "       'Atlanta, GA 30329', 'Atlanta, GA 30328', 'Atlanta, GA 30313 ',\n",
       "       'Atlanta, GA 30306 ', 'Atlanta, GA 30327 ', 'Atlanta, GA 30322',\n",
       "       'Atlanta, GA 30319', 'Atlanta, GA 30342 ', 'Atlanta, GA 30308 ',\n",
       "       'Atlanta, GA 30341', 'Atlanta, GA 30326 ', 'Atlanta, GA 30361 ',\n",
       "       'Atlanta, GA 30363 ', 'Atlanta, GA 30332 ', 'Atlanta, GA 30345',\n",
       "       'Atlanta, GA 30350', 'Atlanta, GA 30339', 'Austin, TX',\n",
       "       'Austin, TX 78746', 'Austin, TX 78701', 'Austin, TX 78759',\n",
       "       'Round Rock, TX 78664', 'Cedar Park, TX 78613', 'Austin, TX 78702',\n",
       "       'Austin, TX 78754', nan, 'Austin, TX 78751', 'Austin, TX 73344',\n",
       "       'Austin, TX 78731', 'Austin, TX 78716', 'Austin, TX 78729',\n",
       "       'Austin, TX 78758', 'Austin, TX 78769', 'Austin, TX 78753',\n",
       "       'Austin, TX 78703', 'Austin, TX 78744', 'Austin, TX 78723',\n",
       "       'Austin, TX 78747', 'Austin, TX 78730', 'Round Rock, TX',\n",
       "       'Austin, TX 78727', 'Boulder, CO', 'Boulder, CO 80302',\n",
       "       'Boulder, CO 80301', 'Boston, MA', 'Boston, MA 02110',\n",
       "       'Boston, MA 02129', 'Boston, MA 02116', 'Boston, MA 02111',\n",
       "       'Boston, MA 02298', 'Boston, MA 02109', 'Boston, MA 02210',\n",
       "       'Boston, MA 02212', 'Boston, MA 02215', 'Boston, MA 02114',\n",
       "       'Boston, MA 02199', 'Boston, MA 02134', 'Boston, MA 02108',\n",
       "       'Boston, MA 02201', 'Boston, MA 02115', 'Boston, MA 02118',\n",
       "       'Chicago, IL', 'Chicago, IL 60642', 'Chicago, IL 60603',\n",
       "       'Chicago, IL 60606', 'Chicago, IL 60601', 'Chicago, IL 60664',\n",
       "       'Chicago, IL 60290', 'Chicago, IL 60654', 'Chicago, IL 60614',\n",
       "       'Chicago, IL 60604', 'Chicago, IL 60607', 'Chicago, IL 60647',\n",
       "       'Chicago, IL 60661', 'Chicago, IL 60657', 'Chicago, IL 60659',\n",
       "       'Chicago, IL 60631', 'Chicago, IL 60610', 'Chicago, IL 60611',\n",
       "       'Chicago, IL 60615', 'Chicago, IL 60613', 'Chicago, IL 60602',\n",
       "       'Chicago, IL 60646', 'Chicago, IL 60616', 'Washington, DC 20006',\n",
       "       'Washington, DC 20422', 'Washington, DC 20005', 'Washington, DC',\n",
       "       'Washington, DC 20001', 'Washington, DC 20036',\n",
       "       'Washington, DC 20003', 'Washington, DC 20044',\n",
       "       'Washington, DC 20230', 'Washington, DC 20037',\n",
       "       'Washington, DC 20024', 'Washington, DC 20032',\n",
       "       'Washington, DC 20229', 'Washington, DC 20002',\n",
       "       'Washington, DC 20020', 'Washington, DC 20022',\n",
       "       'Washington, DC 20009', 'Washington, DC 20318',\n",
       "       'Washington, DC 20301', 'Washington, DC 20585',\n",
       "       'Washington, DC 20376', 'Washington, DC 20004',\n",
       "       'Washington, DC 20535', 'Washington, DC 20007',\n",
       "       'Washington, DC 20010', 'Los Angeles, CA', 'Los Angeles, CA 90002',\n",
       "       'Los Angeles, CA 90012', 'Los Angeles, CA 90006',\n",
       "       'Los Angeles, CA 90036', 'Los Angeles, CA 90064',\n",
       "       'Los Angeles, CA 90001', 'Los Angeles, CA 90025',\n",
       "       'Los Angeles, CA 90067', 'Los Angeles, CA 90015',\n",
       "       'Los Angeles, CA 90028', 'Los Angeles, CA 90048',\n",
       "       'Los Angeles, CA 90024', 'Los Angeles, CA 90071',\n",
       "       'Los Angeles, CA 90095', 'Los Angeles, CA 90066',\n",
       "       'Los Angeles, CA 90046', 'Los Angeles, CA 90010',\n",
       "       'Los Angeles, CA 90045', 'Los Angeles, CA 90016',\n",
       "       'Los Angeles, CA 90017', 'Cambridge, MA', 'Cambridge, MA 02139',\n",
       "       'Cambridge, MA 02140', 'Cambridge, MA 02142',\n",
       "       'Cambridge, MA 02141', 'Cambridge, MA 02138',\n",
       "       'Cambridge, MA 02163', 'Mountain View, CA 94040',\n",
       "       'Mountain View, CA 94043', 'Mountain View, CA',\n",
       "       'Mountain View, CA 94039', 'Mountain View, CA 94041',\n",
       "       'Manhattan, NY', 'Mountain View, CA 94035', 'New York, NY',\n",
       "       'New York, NY 10032', 'Jersey City, NJ', 'New York, NY 10016',\n",
       "       'New York, NY 10003', 'New York, NY 10261', 'Newark, NJ',\n",
       "       'Oakland, NJ', 'New York, NY 10001', 'Bronx, NY',\n",
       "       'New York, NY 10019', 'New York, NY 10154', 'New York, NY 10004',\n",
       "       'New York, NY 10010', 'New York, NY 10065', 'New York, NY 10022',\n",
       "       'New York, NY 10007', 'New York, NY 10020', 'New York, NY 10011',\n",
       "       'New York, NY 10036', 'Hoboken, NJ 07030', 'New York, NY 10014',\n",
       "       'Brooklyn, NY', 'New York, NY 10017', 'New York, NY 10173',\n",
       "       'New York, NY 10002', 'New York, NY 10282', 'Rutherford, NJ',\n",
       "       'Union, NJ 07083', 'Rahway, NJ', 'Newark, NJ 07105',\n",
       "       'Jersey City, NJ 07310', 'Murray Hill, NJ', 'South Plainfield, NJ',\n",
       "       'New York, NY 10018', 'New York, NY 10012', 'New York, NY 10011 ',\n",
       "       'New York, NY 10281 ', 'New York, NY 10104 ', 'Hoboken, NJ',\n",
       "       'New York, NY 10154 ', 'New York, NY 10014 ',\n",
       "       'New York, NY 10032 ', 'New York, NY 10282 ',\n",
       "       'New York, NY 10001 ', 'Queens, NY', 'New York, NY 10016 ',\n",
       "       'New York, NY 10022 ', 'Little Falls, NJ',\n",
       "       'Florham Park, NJ 07932', 'New York, NY 10006 ',\n",
       "       'New York, NY 10261 ', 'New York, NY 10179 ', 'Troy Hills, NJ',\n",
       "       'Bloomfield, NJ', 'New York, NY 10013 ', 'Lynbrook, NY',\n",
       "       'Allendale, NJ', 'Parsippany, NJ', 'New York, NY 10018 ',\n",
       "       'New York, NY 10003 ', 'New York, NY 10176 ',\n",
       "       'New York, NY 10002 ', 'New York, NY 10023 ',\n",
       "       'New York, NY 10029 ', 'New York, NY 10017 ',\n",
       "       'New York, NY 10107 ', 'New York, NY 10038 ',\n",
       "       'West Orange, NJ 07052', 'Kenilworth, NJ', 'New York, NY 10041 ',\n",
       "       'New York, NY 10005 ', 'New York, NY 10012 ',\n",
       "       'New York, NY 10065 ', 'Ridgefield, NJ', 'New York, NY 10119 ',\n",
       "       'Harrison, NY', 'Montclair, NJ', 'New York, NY 10171 ',\n",
       "       'Fort Lee, NJ', 'New York, NY 10010 ', 'New York, NY 10021 ',\n",
       "       'Carlstadt, NJ 07072', 'Orangeburg, NY 10962',\n",
       "       'Jersey City, NJ 07310 ', 'Fairfield, NJ', 'Palisades, NY',\n",
       "       'Hackensack, NJ', 'Roseland, NJ 07068', 'New York, NY 10168 ',\n",
       "       'New York, NY 10172 ', 'East Hanover, NJ 07936',\n",
       "       'Long Beach, NY 11561', 'Whippany, NJ', 'Union, NJ',\n",
       "       'Brooklyn, NY 11249 ', 'Jersey City, NJ 07311 ',\n",
       "       'New York, NY 10019 ', 'Manhasset, NY 11030', 'Yonkers, NY 10701',\n",
       "       'Brooklyn, NY 11216 ', 'New York, NY 10279 ',\n",
       "       'New York, NY 10004 ', 'New Hyde Park, NY 11040', 'Secaucus, NJ',\n",
       "       'New York, NY 10055 ', 'Port Washington, NY 11050',\n",
       "       'Staten Island, NY', 'Short Hills, NJ', 'Manhattanville, NY',\n",
       "       'Woodcliff Lake, NJ', 'New York, NY 10027 ', 'New York, NY 10007 ',\n",
       "       'Brooklyn, NY 11201', 'Redmond, WA 98052', 'Redmond, WA',\n",
       "       'Redmond, WA 98053', 'San Diego, CA', 'San Diego, CA 92109',\n",
       "       'San Diego, CA 92121', 'San Diego, CA 92108',\n",
       "       'San Diego, CA 92127', 'San Diego, CA 92111',\n",
       "       'San Diego, CA 92123', 'San Diego, CA 92122',\n",
       "       'San Diego, CA 92130', 'San Diego, CA 92120',\n",
       "       'San Diego, CA 92102', 'San Diego, CA 92154',\n",
       "       'San Diego, CA 92128', 'San Diego, CA 92129', 'Bedminster, NJ',\n",
       "       'New Brunswick, NJ', 'San Diego, CA 92110', 'San Diego, CA 92105',\n",
       "       'Seattle, WA 98104', 'Seattle, WA', 'Seattle, WA 98109',\n",
       "       'Seattle, WA 98101', 'Seattle, WA 98115', 'Seattle, WA 98102',\n",
       "       'Seattle, WA 98121', 'Seattle, WA 98119', 'Seattle, WA 98103',\n",
       "       'Seattle, WA 98105', 'Seattle, WA 98127', 'Seattle, WA 98194',\n",
       "       'Seattle, WA 98106', 'Seattle, WA 98168', 'Seattle, WA 98164',\n",
       "       'Seattle, WA 98122', 'Seattle, WA 98188', 'Seattle, WA 98134',\n",
       "       'Seattle, WA 98195', 'San Francisco, CA 94103', 'Redwood City, CA',\n",
       "       'San Francisco, CA', 'San Francisco, CA 94105',\n",
       "       'San Francisco, CA 94124', 'San Mateo, CA',\n",
       "       'Redwood City, CA 94063', 'Berkeley, CA',\n",
       "       'San Francisco Bay Area, CA', 'Menlo Park, CA 94026',\n",
       "       'Redwood City, CA 94065', 'Emeryville, CA', 'Oakland, CA',\n",
       "       'South San Francisco, CA', 'San Francisco, CA 94107',\n",
       "       'Foster City, CA', 'San Francisco, CA 94114',\n",
       "       'San Francisco, CA 94158', 'San Francisco, CA 94104',\n",
       "       'San Francisco, CA 94133', 'Redwood City, CA 94062',\n",
       "       'Oakland, CA 94612', 'Emeryville, CA 94608',\n",
       "       'South San Francisco, CA 94080', 'San Carlos, CA 94070',\n",
       "       'San Francisco, CA 94115', 'San Mateo, CA 94404',\n",
       "       'San Francisco, CA 94108', 'San Francisco, CA 94126',\n",
       "       'Union City, CA 94587', 'Burlingame, CA 94010', 'Belmont, CA',\n",
       "       'Richmond, CA 94804', 'Richmond, CA', 'Berkeley, CA 94710',\n",
       "       'San Francisco, CA 94111', 'Hayward, CA',\n",
       "       'South San Francisco, CA 94083', 'Novato, CA',\n",
       "       'San Francisco, CA 94102', 'Burlingame, CA', 'Alameda, CA 94501',\n",
       "       'San Rafael, CA', 'San Mateo, CA 94403', 'Alameda, CA',\n",
       "       'Menlo Park, CA 94025', 'Pleasant Hill, CA', 'San Bruno, CA',\n",
       "       'Oakland, CA 94611', 'Oakland, CA 94607', 'Redwood City, CA 94061',\n",
       "       'Novato, CA 94949', 'San Ramon, CA', 'Lafayette, CA',\n",
       "       'San Leandro, CA', 'Hayward, CA 94545', 'San Carlos, CA',\n",
       "       'San Mateo, CA 94401', 'Daly City, CA 94016',\n",
       "       'Mill Valley, CA 94941', 'San Francisco, CA 94129',\n",
       "       'San Francisco, CA 94109', 'Fremont, CA 94555',\n",
       "       'Richmond, CA 94806', 'San Bruno, CA 94066', 'Belmont, CA 94002',\n",
       "       'San Francisco, CA 94110', 'Martinez, CA',\n",
       "       'San Francisco, CA 94122', 'Walnut Creek, CA',\n",
       "       'Kentfield, CA 94904', 'Oakland, CA 94601', 'San Mateo, CA 94402',\n",
       "       'San Francisco, CA 94117', 'Walnut Creek, CA 94596',\n",
       "       'Sunnyvale, CA', 'Sunnyvale, CA 94089', 'Sunnyvale, CA 94085',\n",
       "       'Sunnyvale, CA 94086'], dtype=object)"
      ]
     },
     "execution_count": 7,
     "metadata": {},
     "output_type": "execute_result"
    }
   ],
   "source": [
    "dataset['location'].unique()"
   ]
  },
  {
   "cell_type": "markdown",
   "metadata": {},
   "source": [
    "## Cleaning Data"
   ]
  },
  {
   "cell_type": "code",
   "execution_count": 14,
   "metadata": {},
   "outputs": [],
   "source": [
    "nullsdf = pd.DataFrame(round(dataset.isna().sum()/len(dataset),4)*100)"
   ]
  },
  {
   "cell_type": "code",
   "execution_count": 15,
   "metadata": {},
   "outputs": [
    {
     "data": {
      "text/html": [
       "<div>\n",
       "<style scoped>\n",
       "    .dataframe tbody tr th:only-of-type {\n",
       "        vertical-align: middle;\n",
       "    }\n",
       "\n",
       "    .dataframe tbody tr th {\n",
       "        vertical-align: top;\n",
       "    }\n",
       "\n",
       "    .dataframe thead th {\n",
       "        text-align: right;\n",
       "    }\n",
       "</style>\n",
       "<table border=\"1\" class=\"dataframe\">\n",
       "  <thead>\n",
       "    <tr style=\"text-align: right;\">\n",
       "      <th></th>\n",
       "      <th>0</th>\n",
       "    </tr>\n",
       "  </thead>\n",
       "  <tbody>\n",
       "    <tr>\n",
       "      <th>position</th>\n",
       "      <td>0.16</td>\n",
       "    </tr>\n",
       "    <tr>\n",
       "      <th>company</th>\n",
       "      <td>0.16</td>\n",
       "    </tr>\n",
       "    <tr>\n",
       "      <th>description</th>\n",
       "      <td>0.16</td>\n",
       "    </tr>\n",
       "    <tr>\n",
       "      <th>reviews</th>\n",
       "      <td>23.52</td>\n",
       "    </tr>\n",
       "    <tr>\n",
       "      <th>location</th>\n",
       "      <td>0.16</td>\n",
       "    </tr>\n",
       "  </tbody>\n",
       "</table>\n",
       "</div>"
      ],
      "text/plain": [
       "                 0\n",
       "position      0.16\n",
       "company       0.16\n",
       "description   0.16\n",
       "reviews      23.52\n",
       "location      0.16"
      ]
     },
     "execution_count": 15,
     "metadata": {},
     "output_type": "execute_result"
    }
   ],
   "source": [
    "nullsdf"
   ]
  },
  {
   "cell_type": "markdown",
   "metadata": {},
   "source": [
    "### Cleaning location"
   ]
  },
  {
   "cell_type": "code",
   "execution_count": null,
   "metadata": {},
   "outputs": [],
   "source": [
    "dataset['city'] = dataset['location'].str.split(',', )"
   ]
  },
  {
   "cell_type": "code",
   "execution_count": 21,
   "metadata": {},
   "outputs": [
    {
     "data": {
      "text/plain": [
       "0        [Atlanta,  GA 30301 ]\n",
       "1               [Atlanta,  GA]\n",
       "2               [Atlanta,  GA]\n",
       "3        [Atlanta,  GA 30303 ]\n",
       "4               [Atlanta,  GA]\n",
       "                 ...          \n",
       "6959          [Sunnyvale,  CA]\n",
       "6960          [Sunnyvale,  CA]\n",
       "6961          [Sunnyvale,  CA]\n",
       "6962          [Sunnyvale,  CA]\n",
       "6963    [Sunnyvale,  CA 94089]\n",
       "Name: location, Length: 6964, dtype: object"
      ]
     },
     "execution_count": 21,
     "metadata": {},
     "output_type": "execute_result"
    }
   ],
   "source": []
  },
  {
   "cell_type": "markdown",
   "metadata": {},
   "source": [
    "### Cleaning Position"
   ]
  },
  {
   "cell_type": "code",
   "execution_count": 1,
   "metadata": {},
   "outputs": [
    {
     "ename": "NameError",
     "evalue": "name 'dataset' is not defined",
     "output_type": "error",
     "traceback": [
      "\u001b[1;31m---------------------------------------------------------------------------\u001b[0m",
      "\u001b[1;31mNameError\u001b[0m                                 Traceback (most recent call last)",
      "\u001b[1;32m<ipython-input-1-b1476d27bdbb>\u001b[0m in \u001b[0;36m<module>\u001b[1;34m\u001b[0m\n\u001b[1;32m----> 1\u001b[1;33m \u001b[0mdataset\u001b[0m\u001b[1;33m[\u001b[0m\u001b[1;34m'position'\u001b[0m\u001b[1;33m]\u001b[0m\u001b[1;33m.\u001b[0m\u001b[0minfo\u001b[0m\u001b[1;33m(\u001b[0m\u001b[1;33m)\u001b[0m\u001b[1;33m\u001b[0m\u001b[1;33m\u001b[0m\u001b[0m\n\u001b[0m",
      "\u001b[1;31mNameError\u001b[0m: name 'dataset' is not defined"
     ]
    }
   ],
   "source": [
    "dataset['position'].info()"
   ]
  },
  {
   "cell_type": "code",
   "execution_count": null,
   "metadata": {},
   "outputs": [],
   "source": []
  }
 ],
 "metadata": {
  "kernelspec": {
   "display_name": "Python 3",
   "language": "python",
   "name": "python3"
  },
  "language_info": {
   "codemirror_mode": {
    "name": "ipython",
    "version": 3
   },
   "file_extension": ".py",
   "mimetype": "text/x-python",
   "name": "python",
   "nbconvert_exporter": "python",
   "pygments_lexer": "ipython3",
   "version": "3.8.5"
  }
 },
 "nbformat": 4,
 "nbformat_minor": 5
}
